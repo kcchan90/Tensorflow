{
 "cells": [
  {
   "cell_type": "code",
   "execution_count": 1,
   "metadata": {},
   "outputs": [],
   "source": [
    "import numpy as np\n",
    "import pandas as pd"
   ]
  },
  {
   "cell_type": "code",
   "execution_count": 15,
   "metadata": {},
   "outputs": [],
   "source": [
    "class example:\n",
    "    def __init__(self,a,b):\n",
    "        self.A = a\n",
    "        self.B = b\n",
    "        print(a,b)\n",
    "    def hello(self):\n",
    "        print('hello')"
   ]
  },
  {
   "cell_type": "code",
   "execution_count": 19,
   "metadata": {},
   "outputs": [],
   "source": [
    "class example2(example):\n",
    "    def __init__(self,a,b,c):\n",
    "        self.C = c\n",
    "        super().__init__(a,b)\n",
    "        "
   ]
  },
  {
   "cell_type": "code",
   "execution_count": 8,
   "metadata": {},
   "outputs": [
    {
     "name": "stdout",
     "output_type": "stream",
     "text": [
      "1 2\n"
     ]
    }
   ],
   "source": [
    "X = example(1,2)"
   ]
  },
  {
   "cell_type": "code",
   "execution_count": 21,
   "metadata": {},
   "outputs": [
    {
     "name": "stdout",
     "output_type": "stream",
     "text": [
      "1 2\n"
     ]
    }
   ],
   "source": [
    "Y=example2(1,2,3)"
   ]
  },
  {
   "cell_type": "code",
   "execution_count": 22,
   "metadata": {},
   "outputs": [
    {
     "name": "stdout",
     "output_type": "stream",
     "text": [
      "hello\n"
     ]
    }
   ],
   "source": [
    "Y.hello()"
   ]
  },
  {
   "cell_type": "markdown",
   "metadata": {},
   "source": [
    "Part 2"
   ]
  },
  {
   "cell_type": "code",
   "execution_count": 121,
   "metadata": {},
   "outputs": [],
   "source": [
    "class oper():\n",
    "    def __init__(self,input=[]):\n",
    "        self.input = input\n",
    "        self.output = []\n",
    "        for i in input:\n",
    "            i.output.append(self)\n",
    "        _default_graph.oper.append(self)\n",
    "    def compute(self):\n",
    "        pass\n",
    "\n",
    "class add(oper):\n",
    "    def __init__(self,x,y):\n",
    "        super().__init__([x,y])\n",
    "    def compute(self,x_var,y_var):\n",
    "        x.inputs = [x_var,y_var]\n",
    "        return x_var + y_var"
   ]
  },
  {
   "cell_type": "code",
   "execution_count": 137,
   "metadata": {},
   "outputs": [],
   "source": [
    "class mult(oper):\n",
    "    def __init__(self,x,y):\n",
    "        super().__init__([x,y])\n",
    "    def compute(self,x_var,y_var):\n",
    "        x.inputs = [x_var,y_var]\n",
    "        return x_var * y_var\n",
    "class mmult(oper):\n",
    "    def __init__(self,x,y):\n",
    "        super().__init__([x,y])\n",
    "    def compute(self,x_var,y_var):\n",
    "        x.inputs = [x_var,y_var]\n",
    "        return np.array(x_var).dot(np.array(y_var))"
   ]
  },
  {
   "cell_type": "markdown",
   "metadata": {},
   "source": [
    "Part 3"
   ]
  },
  {
   "cell_type": "code",
   "execution_count": 123,
   "metadata": {},
   "outputs": [],
   "source": [
    "class placeholder():\n",
    "    def __init__(self):\n",
    "        self.output = []\n",
    "        _default_graph.placeholder.append(self)"
   ]
  },
  {
   "cell_type": "code",
   "execution_count": 124,
   "metadata": {},
   "outputs": [],
   "source": [
    "class variable():\n",
    "    def __init__(self,init = None):\n",
    "        self.value = init\n",
    "        self.output = []\n",
    "        _default_graph.variable.append(self)"
   ]
  },
  {
   "cell_type": "code",
   "execution_count": 125,
   "metadata": {},
   "outputs": [],
   "source": [
    "class graph():\n",
    "    def __init__(self):\n",
    "        self.oper = []\n",
    "        self.placeholder=[]\n",
    "        self.variable = []\n",
    "    def set_default(self):\n",
    "        global _default_graph \n",
    "        _default_graph = self"
   ]
  },
  {
   "cell_type": "code",
   "execution_count": 126,
   "metadata": {},
   "outputs": [],
   "source": [
    "## z = ax+b\n",
    "g= graph()\n",
    "g.set_default()\n",
    "x = placeholder()\n",
    "a = variable(2)\n",
    "b = variable(1)\n",
    "y = mult(a,x)\n",
    "z = add(y,b)"
   ]
  },
  {
   "cell_type": "markdown",
   "metadata": {},
   "source": [
    "Part 4"
   ]
  },
  {
   "cell_type": "code",
   "execution_count": 127,
   "metadata": {},
   "outputs": [],
   "source": [
    "##copy\n",
    "def traverse_postorder(Op):\n",
    "    n_order = []\n",
    "    def recurse(node):\n",
    "        if isinstance(node, oper):\n",
    "            for input in node.input:\n",
    "                recurse(input)\n",
    "        n_order.append(node)\n",
    "    recurse(Op)\n",
    "    return n_order\n",
    "            "
   ]
  },
  {
   "cell_type": "code",
   "execution_count": 131,
   "metadata": {},
   "outputs": [],
   "source": [
    "class session():\n",
    "    def run(self,oper,feed_dict={}):\n",
    "        n_order = traverse_postorder(oper)\n",
    "        for n in n_order:\n",
    "            if type(n)==placeholder:\n",
    "                n.output = feed_dict[n]\n",
    "            elif type(n)==variable:\n",
    "                n.output = n.value\n",
    "            else:\n",
    "                n.inputs = [input.output for input in n.input]\n",
    "                n.output = n.compute(*n.inputs)\n",
    "        if type(n.output) == list:\n",
    "            n.output = np.array(n.output)\n",
    "        return oper.output"
   ]
  },
  {
   "cell_type": "code",
   "execution_count": 132,
   "metadata": {},
   "outputs": [],
   "source": [
    "Z = session()"
   ]
  },
  {
   "cell_type": "code",
   "execution_count": 133,
   "metadata": {},
   "outputs": [
    {
     "data": {
      "text/plain": [
       "21"
      ]
     },
     "execution_count": 133,
     "metadata": {},
     "output_type": "execute_result"
    }
   ],
   "source": [
    "Z.run(oper = z,feed_dict= {x:10})"
   ]
  },
  {
   "cell_type": "code",
   "execution_count": 138,
   "metadata": {},
   "outputs": [],
   "source": [
    "##example2\n",
    "g= graph()\n",
    "g.set_default()\n",
    "A = variable([[1,2],[3,4]])\n",
    "b = variable([2,3])\n",
    "x = placeholder()\n",
    "y = mmult(A,x)\n",
    "z = add(y,b)"
   ]
  },
  {
   "cell_type": "code",
   "execution_count": 139,
   "metadata": {},
   "outputs": [
    {
     "data": {
      "text/plain": [
       "array([[ 7, 13],\n",
       "       [17, 23]])"
      ]
     },
     "execution_count": 139,
     "metadata": {},
     "output_type": "execute_result"
    }
   ],
   "source": [
    "sess = session()\n",
    "sess.run(z,feed_dict={x:5})"
   ]
  },
  {
   "cell_type": "markdown",
   "metadata": {},
   "source": [
    "Part 5"
   ]
  },
  {
   "cell_type": "code",
   "execution_count": null,
   "metadata": {},
   "outputs": [],
   "source": []
  }
 ],
 "metadata": {
  "kernelspec": {
   "display_name": "Python 3",
   "language": "python",
   "name": "python3"
  },
  "language_info": {
   "codemirror_mode": {
    "name": "ipython",
    "version": 3
   },
   "file_extension": ".py",
   "mimetype": "text/x-python",
   "name": "python",
   "nbconvert_exporter": "python",
   "pygments_lexer": "ipython3",
   "version": "3.6.4"
  }
 },
 "nbformat": 4,
 "nbformat_minor": 2
}
